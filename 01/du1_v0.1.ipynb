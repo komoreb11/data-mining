import numpy as np
import pandas as pd
import sklearn as skit
import matplotlib.pyplot as plt
import seaborn as sns


years = ['2006', '2010', '2014', '2018'] #pro pohodlnost parsingu a nasledujici konkatinace udelam pole vsech roku voleb 
yearsa = ['2002','2006', '2010', '2014', '2018'] #2 krat, protoze nevzdycky potrebujeme rok 2002, mozna ale bylo lepsi reseni

#zacatek parsingu
url = 'https://www.volby.cz/pls/kv2002/kv1211?xjazyk=CZ&xid=0&xv=1&xdz=3&xnumnuts=3203'
musor = pd.read_html(url,flavor='html5lib') #udelame list neosetrenych dat pro parsing
#prejmenovani sloupcu pro delsi prace s nimi
musor[1] = musor[1].rename(columns={"Volební strana": "Jednotlive strany","v %":"Pocet hlasu v %", "abs.": "Pocet hlasu lidi"})
procs = [musor[1]['Hlasy'].iloc[:,1]] #taky zakladam list pro chovani poctu hlasu v procentach, protoze
#od 2006 do 2018 roku ten sloupec senespravne zparsoval  a ma format int64 za misto float(proto meli hodnoty o 100 krat vys)
#takze jsem v podstate rozdelil tabulku na 3 nutnych podle zadani sloupce, abych pak pohodlne zpracovaval je

i=0
v=4
k=1
while i != 4:
    url = 'https://www.volby.cz/pls/kv' #jednoduchy cyklus pro parsing ze zmenou url
    url += years[i] #jednoduchy parsing
    url += '/kv1111?xjazyk=CZ&xid=0&xdz=3&xnumnuts=3203&xobec=554791&xstat=0&xvyber=0'
    musor += pd.read_html(url,flavor='html5lib')
    if v== 4 or v == 6 or v == 8 or v == 10: #zjistil jsem, ze nutne tabulky na takovych pozicih pomoci prikazu display
        musor[v] = musor[v].rename(columns={"název": "Jednotlive strany", "v %":"Pocet hlasu v %", "abs.": "Pocet hlasu lidi"})
        nnpc = musor[v]['Hlasy'].iloc[:,1] #oprava sloupce poctu v %
        npc = nnpc.astype(float) #zmena dtype
        npc*=0.01 #opravime chybu poctu
        procs.append(npc) #ulozim do listu vsech sloupcu " procenty "
    i += 1
    k+=1
    v+=2
i=4
#nasledne udelam nove listy pro jednotlive sloupe, soucasne se postaram o formatu vyslednych sloupce prikazem .iloc
main = [musor[1]['Jednotlive strany'],musor[4]['Kandidátní listina'].iloc[:,[1]],musor[6]['Kandidátní listina'].iloc[:,[1]],musor[8]['Kandidátní listina'].iloc[:,[1]],musor[10]['Kandidátní listina'].iloc[:,[1]]]
lide = [musor[1]['Hlasy'].iloc[:,0], musor[4]['Hlasy'].iloc[:,0],musor[6]['Hlasy'].iloc[:,0],musor[8]['Hlasy'].iloc[:,0],musor[10]['Hlasy'].iloc[:,0]]
#konkatinace vsech jednotlivych sloupce ruznych let podle jednoho typu 
al=pd.concat(main, keys = yearsa) #pouzivame pole vsech roku voleb pro indexace
ld=pd.concat(lide, keys = yearsa)
pc=pd.concat(procs, keys = yearsa) 
al.insert(1,'Pocet hlasu lidi', ld ) #spojime cele 3 sloupce dohormady
al.insert(2, 'Pocet hlasu v %', pc)
display(al) #mame krasnou tabulku c.1 